{
  "nbformat": 4,
  "nbformat_minor": 0,
  "metadata": {
    "colab": {
      "provenance": [],
      "authorship_tag": "ABX9TyNVg65PJ3PowpQKPMYPbJrP",
      "include_colab_link": true
    },
    "kernelspec": {
      "name": "python3",
      "display_name": "Python 3"
    },
    "language_info": {
      "name": "python"
    }
  },
  "cells": [
    {
      "cell_type": "markdown",
      "metadata": {
        "id": "view-in-github",
        "colab_type": "text"
      },
      "source": [
        "<a href=\"https://colab.research.google.com/github/NoCodeProgram/deepLearning/blob/main/nn/backprop.ipynb\" target=\"_parent\"><img src=\"https://colab.research.google.com/assets/colab-badge.svg\" alt=\"Open In Colab\"/></a>"
      ]
    },
    {
      "cell_type": "code",
      "execution_count": 1,
      "metadata": {
        "id": "u1AZi1BY8OHV"
      },
      "outputs": [],
      "source": [
        "import torch\n",
        "\n",
        "x = torch.tensor(2, dtype=torch.float32, requires_grad=True)\n",
        "y = torch.tensor(3, dtype=torch.float32, requires_grad=True)\n",
        "\n",
        "a = torch.tensor(3, dtype=torch.float32, requires_grad=True)"
      ]
    },
    {
      "cell_type": "code",
      "source": [
        "loss = (a*x - y)**2\n",
        "print(f\"loss {loss}\")\n",
        "\n",
        "loss.backward()\n",
        "\n",
        "print(f\"x grad : {x.grad}\")\n",
        "print(f\"y grad : {y.grad}\")\n",
        "print(f\"a grad : {a.grad}\")"
      ],
      "metadata": {
        "colab": {
          "base_uri": "https://localhost:8080/"
        },
        "id": "l4tFH4gXAYcb",
        "outputId": "5ae56ae6-e4f6-4dab-e840-cc54d8794f60"
      },
      "execution_count": 2,
      "outputs": [
        {
          "output_type": "stream",
          "name": "stdout",
          "text": [
            "loss 9.0\n",
            "x grad : 18.0\n",
            "y grad : -6.0\n",
            "a grad : 12.0\n"
          ]
        }
      ]
    },
    {
      "cell_type": "code",
      "source": [
        "\n",
        "a = torch.tensor(3, dtype=torch.float32, requires_grad=True)\n",
        "losses = []\n",
        "for idx in range(100):\n",
        "    loss = (a*x - y)**2\n",
        "    losses.append(loss.item())\n",
        "    grad = loss.backward()\n",
        "    print(f\"a value: {a.item()}, dl/da :  {a.grad}\" )\n",
        "    with torch.no_grad():\n",
        "        a -= 0.01 * a.grad\n",
        "\n",
        "    a.grad.zero_()"
      ],
      "metadata": {
        "colab": {
          "base_uri": "https://localhost:8080/"
        },
        "id": "q5TUJOgIAZO9",
        "outputId": "981843a0-bfb0-4c25-8dbd-0b2100273515"
      },
      "execution_count": 3,
      "outputs": [
        {
          "output_type": "stream",
          "name": "stdout",
          "text": [
            "a value: 3.0, dl/da :  12.0\n",
            "a value: 2.880000114440918, dl/da :  11.040000915527344\n",
            "a value: 2.7696001529693604, dl/da :  10.156801223754883\n",
            "a value: 2.668032169342041, dl/da :  9.344257354736328\n",
            "a value: 2.574589490890503, dl/da :  8.596715927124023\n",
            "a value: 2.4886224269866943, dl/da :  7.908979415893555\n",
            "a value: 2.4095325469970703, dl/da :  7.2762603759765625\n",
            "a value: 2.3367700576782227, dl/da :  6.694160461425781\n",
            "a value: 2.2698285579681396, dl/da :  6.158628463745117\n",
            "a value: 2.208242177963257, dl/da :  5.665937423706055\n",
            "a value: 2.151582717895508, dl/da :  5.2126617431640625\n",
            "a value: 2.0994560718536377, dl/da :  4.795648574829102\n",
            "a value: 2.051499605178833, dl/da :  4.411996841430664\n",
            "a value: 2.0073795318603516, dl/da :  4.0590362548828125\n",
            "a value: 1.9667891263961792, dl/da :  3.7343130111694336\n",
            "a value: 1.9294459819793701, dl/da :  3.435567855834961\n",
            "a value: 1.8950903415679932, dl/da :  3.1607227325439453\n",
            "a value: 1.8634830713272095, dl/da :  2.907864570617676\n",
            "a value: 1.834404468536377, dl/da :  2.6752357482910156\n",
            "a value: 1.8076521158218384, dl/da :  2.461216926574707\n",
            "a value: 1.783039927482605, dl/da :  2.26431941986084\n",
            "a value: 1.7603967189788818, dl/da :  2.0831737518310547\n",
            "a value: 1.7395650148391724, dl/da :  1.916520118713379\n",
            "a value: 1.7203998565673828, dl/da :  1.7631988525390625\n",
            "a value: 1.7027678489685059, dl/da :  1.6221427917480469\n",
            "a value: 1.6865464448928833, dl/da :  1.4923715591430664\n",
            "a value: 1.6716227531433105, dl/da :  1.3729820251464844\n",
            "a value: 1.6578929424285889, dl/da :  1.263143539428711\n",
            "a value: 1.645261526107788, dl/da :  1.1620922088623047\n",
            "a value: 1.6336406469345093, dl/da :  1.0691251754760742\n",
            "a value: 1.6229493618011475, dl/da :  0.9835948944091797\n",
            "a value: 1.6131134033203125, dl/da :  0.9049072265625\n",
            "a value: 1.6040643453598022, dl/da :  0.832514762878418\n",
            "a value: 1.5957392454147339, dl/da :  0.7659139633178711\n",
            "a value: 1.5880800485610962, dl/da :  0.7046403884887695\n",
            "a value: 1.5810335874557495, dl/da :  0.6482686996459961\n",
            "a value: 1.5745508670806885, dl/da :  0.5964069366455078\n",
            "a value: 1.568586826324463, dl/da :  0.5486946105957031\n",
            "a value: 1.5630998611450195, dl/da :  0.5047988891601562\n",
            "a value: 1.5580518245697021, dl/da :  0.4644145965576172\n",
            "a value: 1.5534076690673828, dl/da :  0.4272613525390625\n",
            "a value: 1.5491350889205933, dl/da :  0.3930807113647461\n",
            "a value: 1.5452042818069458, dl/da :  0.3616342544555664\n",
            "a value: 1.5415879487991333, dl/da :  0.3327035903930664\n",
            "a value: 1.5382609367370605, dl/da :  0.3060874938964844\n",
            "a value: 1.5352001190185547, dl/da :  0.2816009521484375\n",
            "a value: 1.5323841571807861, dl/da :  0.25907325744628906\n",
            "a value: 1.529793381690979, dl/da :  0.23834705352783203\n",
            "a value: 1.5274099111557007, dl/da :  0.21927928924560547\n",
            "a value: 1.5252171754837036, dl/da :  0.2017374038696289\n",
            "a value: 1.5231997966766357, dl/da :  0.18559837341308594\n",
            "a value: 1.5213438272476196, dl/da :  0.17075061798095703\n",
            "a value: 1.5196362733840942, dl/da :  0.1570901870727539\n",
            "a value: 1.518065333366394, dl/da :  0.14452266693115234\n",
            "a value: 1.51662015914917, dl/da :  0.13296127319335938\n",
            "a value: 1.5152904987335205, dl/da :  0.12232398986816406\n",
            "a value: 1.51406729221344, dl/da :  0.11253833770751953\n",
            "a value: 1.5129419565200806, dl/da :  0.10353565216064453\n",
            "a value: 1.511906623840332, dl/da :  0.09525299072265625\n",
            "a value: 1.5109541416168213, dl/da :  0.08763313293457031\n",
            "a value: 1.5100778341293335, dl/da :  0.08062267303466797\n",
            "a value: 1.5092716217041016, dl/da :  0.0741729736328125\n",
            "a value: 1.5085299015045166, dl/da :  0.06823921203613281\n",
            "a value: 1.507847547531128, dl/da :  0.06278038024902344\n",
            "a value: 1.5072197914123535, dl/da :  0.057758331298828125\n",
            "a value: 1.50664222240448, dl/da :  0.053137779235839844\n",
            "a value: 1.5061107873916626, dl/da :  0.04888629913330078\n",
            "a value: 1.5056219100952148, dl/da :  0.04497528076171875\n",
            "a value: 1.5051721334457397, dl/da :  0.04137706756591797\n",
            "a value: 1.504758358001709, dl/da :  0.038066864013671875\n",
            "a value: 1.5043777227401733, dl/da :  0.03502178192138672\n",
            "a value: 1.5040274858474731, dl/da :  0.032219886779785156\n",
            "a value: 1.5037052631378174, dl/da :  0.029642105102539062\n",
            "a value: 1.5034087896347046, dl/da :  0.02727031707763672\n",
            "a value: 1.5031360387802124, dl/da :  0.02508831024169922\n",
            "a value: 1.502885103225708, dl/da :  0.023080825805664062\n",
            "a value: 1.5026543140411377, dl/da :  0.021234512329101562\n",
            "a value: 1.5024420022964478, dl/da :  0.01953601837158203\n",
            "a value: 1.502246618270874, dl/da :  0.017972946166992188\n",
            "a value: 1.5020668506622314, dl/da :  0.016534805297851562\n",
            "a value: 1.5019015073776245, dl/da :  0.015212059020996094\n",
            "a value: 1.5017493963241577, dl/da :  0.013995170593261719\n",
            "a value: 1.501609444618225, dl/da :  0.012875556945800781\n",
            "a value: 1.5014806985855103, dl/da :  0.011845588684082031\n",
            "a value: 1.5013622045516968, dl/da :  0.010897636413574219\n",
            "a value: 1.5012532472610474, dl/da :  0.010025978088378906\n",
            "a value: 1.5011529922485352, dl/da :  0.00922393798828125\n",
            "a value: 1.5010607242584229, dl/da :  0.008485794067382812\n",
            "a value: 1.5009758472442627, dl/da :  0.0078067779541015625\n",
            "a value: 1.500897765159607, dl/da :  0.007182121276855469\n",
            "a value: 1.5008260011672974, dl/da :  0.006608009338378906\n",
            "a value: 1.5007599592208862, dl/da :  0.006079673767089844\n",
            "a value: 1.5006991624832153, dl/da :  0.005593299865722656\n",
            "a value: 1.500643253326416, dl/da :  0.005146026611328125\n",
            "a value: 1.50059175491333, dl/da :  0.004734039306640625\n",
            "a value: 1.5005444288253784, dl/da :  0.004355430603027344\n",
            "a value: 1.5005009174346924, dl/da :  0.0040073394775390625\n",
            "a value: 1.5004608631134033, dl/da :  0.0036869049072265625\n",
            "a value: 1.5004240274429321, dl/da :  0.0033922195434570312\n",
            "a value: 1.5003900527954102, dl/da :  0.00312042236328125\n"
          ]
        }
      ]
    },
    {
      "cell_type": "code",
      "source": [],
      "metadata": {
        "id": "rkdqyYBdAaH_"
      },
      "execution_count": null,
      "outputs": []
    }
  ]
}